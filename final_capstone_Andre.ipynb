{
 "cells": [
  {
   "cell_type": "markdown",
   "metadata": {},
   "source": [
    "# Final Capstone Project\n",
    "\n",
    "This is the notebook in which the final capstone will be developed. The activity consists in getting a Wikipedia table with the list of Canada's post codes and using K-means to clusterise the neighbourhoods. "
   ]
  },
  {
   "cell_type": "markdown",
   "metadata": {},
   "source": [
    "The first thing to do is to install the packages needed to run the analysis:"
   ]
  },
  {
   "cell_type": "code",
   "execution_count": 1,
   "metadata": {},
   "outputs": [],
   "source": [
    "#!conda install -c conda-forge geopy --yes"
   ]
  },
  {
   "cell_type": "code",
   "execution_count": 2,
   "metadata": {},
   "outputs": [],
   "source": [
    "#conda update -n base -c defaults conda"
   ]
  },
  {
   "cell_type": "code",
   "execution_count": 3,
   "metadata": {},
   "outputs": [],
   "source": [
    "#pip install beautifulsoup4"
   ]
  },
  {
   "cell_type": "code",
   "execution_count": 4,
   "metadata": {},
   "outputs": [],
   "source": [
    "#pip install geocoder"
   ]
  },
  {
   "cell_type": "markdown",
   "metadata": {},
   "source": [
    "Importing the modules:"
   ]
  },
  {
   "cell_type": "code",
   "execution_count": 5,
   "metadata": {},
   "outputs": [],
   "source": [
    "import pandas as pd\n",
    "import numpy as np\n",
    "from geopy.geocoders import Nominatim\n",
    "from IPython.display import Image \n",
    "from IPython.core.display import HTML\n",
    "from pandas.io.json import json_normalize\n",
    "import folium"
   ]
  },
  {
   "cell_type": "code",
   "execution_count": 6,
   "metadata": {},
   "outputs": [],
   "source": [
    "import geocoder\n",
    "import requests\n",
    "from bs4 import BeautifulSoup"
   ]
  },
  {
   "cell_type": "markdown",
   "metadata": {},
   "source": [
    "The cell below is an contingency in case of not scraping the Wikipedia table from the website."
   ]
  },
  {
   "cell_type": "code",
   "execution_count": 7,
   "metadata": {},
   "outputs": [],
   "source": [
    "#path = r'C:\\Users\\Andre\\Documents\\Cursos\\IBM\\Final capstone\\canada.xlsx'\n",
    "#c_df = pd.read_excel(path) # importing excel file"
   ]
  },
  {
   "cell_type": "markdown",
   "metadata": {},
   "source": [
    "Let's get the Canada's Postal Code Table and see how it looks like:"
   ]
  },
  {
   "cell_type": "code",
   "execution_count": 8,
   "metadata": {},
   "outputs": [],
   "source": [
    "url = 'https://en.wikipedia.org/wiki/List_of_postal_codes_of_Canada:_M'\n",
    "c_df = pd.read_html(url, header=0)[0]"
   ]
  },
  {
   "cell_type": "code",
   "execution_count": 9,
   "metadata": {},
   "outputs": [
    {
     "data": {
      "text/html": [
       "<div>\n",
       "<style scoped>\n",
       "    .dataframe tbody tr th:only-of-type {\n",
       "        vertical-align: middle;\n",
       "    }\n",
       "\n",
       "    .dataframe tbody tr th {\n",
       "        vertical-align: top;\n",
       "    }\n",
       "\n",
       "    .dataframe thead th {\n",
       "        text-align: right;\n",
       "    }\n",
       "</style>\n",
       "<table border=\"1\" class=\"dataframe\">\n",
       "  <thead>\n",
       "    <tr style=\"text-align: right;\">\n",
       "      <th></th>\n",
       "      <th>Postal Code</th>\n",
       "      <th>Borough</th>\n",
       "      <th>Neighbourhood</th>\n",
       "    </tr>\n",
       "  </thead>\n",
       "  <tbody>\n",
       "    <tr>\n",
       "      <th>0</th>\n",
       "      <td>M1A</td>\n",
       "      <td>Not assigned</td>\n",
       "      <td>Not assigned</td>\n",
       "    </tr>\n",
       "    <tr>\n",
       "      <th>1</th>\n",
       "      <td>M2A</td>\n",
       "      <td>Not assigned</td>\n",
       "      <td>Not assigned</td>\n",
       "    </tr>\n",
       "    <tr>\n",
       "      <th>2</th>\n",
       "      <td>M3A</td>\n",
       "      <td>North York</td>\n",
       "      <td>Parkwoods</td>\n",
       "    </tr>\n",
       "    <tr>\n",
       "      <th>3</th>\n",
       "      <td>M4A</td>\n",
       "      <td>North York</td>\n",
       "      <td>Victoria Village</td>\n",
       "    </tr>\n",
       "    <tr>\n",
       "      <th>4</th>\n",
       "      <td>M5A</td>\n",
       "      <td>Downtown Toronto</td>\n",
       "      <td>Regent Park, Harbourfront</td>\n",
       "    </tr>\n",
       "  </tbody>\n",
       "</table>\n",
       "</div>"
      ],
      "text/plain": [
       "  Postal Code           Borough              Neighbourhood\n",
       "0         M1A      Not assigned               Not assigned\n",
       "1         M2A      Not assigned               Not assigned\n",
       "2         M3A        North York                  Parkwoods\n",
       "3         M4A        North York           Victoria Village\n",
       "4         M5A  Downtown Toronto  Regent Park, Harbourfront"
      ]
     },
     "execution_count": 9,
     "metadata": {},
     "output_type": "execute_result"
    }
   ],
   "source": [
    "c_df.head()"
   ]
  },
  {
   "cell_type": "code",
   "execution_count": 10,
   "metadata": {},
   "outputs": [
    {
     "data": {
      "text/plain": [
       "(180, 3)"
      ]
     },
     "execution_count": 10,
     "metadata": {},
     "output_type": "execute_result"
    }
   ],
   "source": [
    "c_df.shape"
   ]
  },
  {
   "cell_type": "markdown",
   "metadata": {},
   "source": [
    "We see that ther is a lot of cells with \"Not Assigned\" in them. Let's clean them up:"
   ]
  },
  {
   "cell_type": "code",
   "execution_count": 11,
   "metadata": {},
   "outputs": [],
   "source": [
    "n_a = 'Not assigned'"
   ]
  },
  {
   "cell_type": "code",
   "execution_count": 12,
   "metadata": {},
   "outputs": [],
   "source": [
    "c_df = c_df[c_df.Borough != n_a]"
   ]
  },
  {
   "cell_type": "code",
   "execution_count": 13,
   "metadata": {},
   "outputs": [
    {
     "data": {
      "text/plain": [
       "(103, 3)"
      ]
     },
     "execution_count": 13,
     "metadata": {},
     "output_type": "execute_result"
    }
   ],
   "source": [
    "c_df.shape"
   ]
  },
  {
   "cell_type": "markdown",
   "metadata": {},
   "source": [
    "Tried to get the coordinates using geocoder, with no success. Instead, I used the CSV file."
   ]
  },
  {
   "cell_type": "code",
   "execution_count": 14,
   "metadata": {},
   "outputs": [
    {
     "data": {
      "text/plain": [
       "\"\\nlat_lng_coords = None\\n\\n# loop until you get the coordinates\\nwhile(lat_lng_coords is None):\\n    g = geocoder.google('{}, Toronto, Ontario'.format(c_df['Postal Code']))\\n    lat_lng_coords = g.latlng\\n\\nlatitude = lat_lng_coords[0]\\nlongitude = lat_lng_coords[1]\""
      ]
     },
     "execution_count": 14,
     "metadata": {},
     "output_type": "execute_result"
    }
   ],
   "source": [
    "'''\n",
    "lat_lng_coords = None\n",
    "\n",
    "# loop until you get the coordinates\n",
    "while(lat_lng_coords is None):\n",
    "    g = geocoder.google('{}, Toronto, Ontario'.format(c_df['Postal Code']))\n",
    "    lat_lng_coords = g.latlng\n",
    "\n",
    "latitude = lat_lng_coords[0]\n",
    "longitude = lat_lng_coords[1]'''"
   ]
  },
  {
   "cell_type": "code",
   "execution_count": 15,
   "metadata": {},
   "outputs": [],
   "source": [
    "latlon = pd.read_csv(r'C:\\Users\\Andre\\Documents\\Cursos\\IBM\\Final capstone\\Geospatial_Coordinates.csv')"
   ]
  },
  {
   "cell_type": "code",
   "execution_count": 16,
   "metadata": {},
   "outputs": [
    {
     "data": {
      "text/html": [
       "<div>\n",
       "<style scoped>\n",
       "    .dataframe tbody tr th:only-of-type {\n",
       "        vertical-align: middle;\n",
       "    }\n",
       "\n",
       "    .dataframe tbody tr th {\n",
       "        vertical-align: top;\n",
       "    }\n",
       "\n",
       "    .dataframe thead th {\n",
       "        text-align: right;\n",
       "    }\n",
       "</style>\n",
       "<table border=\"1\" class=\"dataframe\">\n",
       "  <thead>\n",
       "    <tr style=\"text-align: right;\">\n",
       "      <th></th>\n",
       "      <th>Postal Code</th>\n",
       "      <th>Latitude</th>\n",
       "      <th>Longitude</th>\n",
       "    </tr>\n",
       "  </thead>\n",
       "  <tbody>\n",
       "    <tr>\n",
       "      <th>0</th>\n",
       "      <td>M1B</td>\n",
       "      <td>43.806686</td>\n",
       "      <td>-79.194353</td>\n",
       "    </tr>\n",
       "    <tr>\n",
       "      <th>1</th>\n",
       "      <td>M1C</td>\n",
       "      <td>43.784535</td>\n",
       "      <td>-79.160497</td>\n",
       "    </tr>\n",
       "    <tr>\n",
       "      <th>2</th>\n",
       "      <td>M1E</td>\n",
       "      <td>43.763573</td>\n",
       "      <td>-79.188711</td>\n",
       "    </tr>\n",
       "    <tr>\n",
       "      <th>3</th>\n",
       "      <td>M1G</td>\n",
       "      <td>43.770992</td>\n",
       "      <td>-79.216917</td>\n",
       "    </tr>\n",
       "    <tr>\n",
       "      <th>4</th>\n",
       "      <td>M1H</td>\n",
       "      <td>43.773136</td>\n",
       "      <td>-79.239476</td>\n",
       "    </tr>\n",
       "  </tbody>\n",
       "</table>\n",
       "</div>"
      ],
      "text/plain": [
       "  Postal Code   Latitude  Longitude\n",
       "0         M1B  43.806686 -79.194353\n",
       "1         M1C  43.784535 -79.160497\n",
       "2         M1E  43.763573 -79.188711\n",
       "3         M1G  43.770992 -79.216917\n",
       "4         M1H  43.773136 -79.239476"
      ]
     },
     "execution_count": 16,
     "metadata": {},
     "output_type": "execute_result"
    }
   ],
   "source": [
    "latlon.head()"
   ]
  },
  {
   "cell_type": "code",
   "execution_count": 17,
   "metadata": {},
   "outputs": [],
   "source": [
    "c_df = c_df.merge(latlon, on = 'Postal Code')"
   ]
  },
  {
   "cell_type": "code",
   "execution_count": 18,
   "metadata": {},
   "outputs": [
    {
     "data": {
      "text/html": [
       "<div>\n",
       "<style scoped>\n",
       "    .dataframe tbody tr th:only-of-type {\n",
       "        vertical-align: middle;\n",
       "    }\n",
       "\n",
       "    .dataframe tbody tr th {\n",
       "        vertical-align: top;\n",
       "    }\n",
       "\n",
       "    .dataframe thead th {\n",
       "        text-align: right;\n",
       "    }\n",
       "</style>\n",
       "<table border=\"1\" class=\"dataframe\">\n",
       "  <thead>\n",
       "    <tr style=\"text-align: right;\">\n",
       "      <th></th>\n",
       "      <th>Postal Code</th>\n",
       "      <th>Borough</th>\n",
       "      <th>Neighbourhood</th>\n",
       "      <th>Latitude</th>\n",
       "      <th>Longitude</th>\n",
       "    </tr>\n",
       "  </thead>\n",
       "  <tbody>\n",
       "    <tr>\n",
       "      <th>0</th>\n",
       "      <td>M3A</td>\n",
       "      <td>North York</td>\n",
       "      <td>Parkwoods</td>\n",
       "      <td>43.753259</td>\n",
       "      <td>-79.329656</td>\n",
       "    </tr>\n",
       "    <tr>\n",
       "      <th>1</th>\n",
       "      <td>M4A</td>\n",
       "      <td>North York</td>\n",
       "      <td>Victoria Village</td>\n",
       "      <td>43.725882</td>\n",
       "      <td>-79.315572</td>\n",
       "    </tr>\n",
       "    <tr>\n",
       "      <th>2</th>\n",
       "      <td>M5A</td>\n",
       "      <td>Downtown Toronto</td>\n",
       "      <td>Regent Park, Harbourfront</td>\n",
       "      <td>43.654260</td>\n",
       "      <td>-79.360636</td>\n",
       "    </tr>\n",
       "    <tr>\n",
       "      <th>3</th>\n",
       "      <td>M6A</td>\n",
       "      <td>North York</td>\n",
       "      <td>Lawrence Manor, Lawrence Heights</td>\n",
       "      <td>43.718518</td>\n",
       "      <td>-79.464763</td>\n",
       "    </tr>\n",
       "    <tr>\n",
       "      <th>4</th>\n",
       "      <td>M7A</td>\n",
       "      <td>Downtown Toronto</td>\n",
       "      <td>Queen's Park, Ontario Provincial Government</td>\n",
       "      <td>43.662301</td>\n",
       "      <td>-79.389494</td>\n",
       "    </tr>\n",
       "  </tbody>\n",
       "</table>\n",
       "</div>"
      ],
      "text/plain": [
       "  Postal Code           Borough                                Neighbourhood  \\\n",
       "0         M3A        North York                                    Parkwoods   \n",
       "1         M4A        North York                             Victoria Village   \n",
       "2         M5A  Downtown Toronto                    Regent Park, Harbourfront   \n",
       "3         M6A        North York             Lawrence Manor, Lawrence Heights   \n",
       "4         M7A  Downtown Toronto  Queen's Park, Ontario Provincial Government   \n",
       "\n",
       "    Latitude  Longitude  \n",
       "0  43.753259 -79.329656  \n",
       "1  43.725882 -79.315572  \n",
       "2  43.654260 -79.360636  \n",
       "3  43.718518 -79.464763  \n",
       "4  43.662301 -79.389494  "
      ]
     },
     "execution_count": 18,
     "metadata": {},
     "output_type": "execute_result"
    }
   ],
   "source": [
    "c_df.head()"
   ]
  },
  {
   "cell_type": "markdown",
   "metadata": {},
   "source": [
    "For the exercise I got Toronto as an example. Listed boroughs and neighbourhoods"
   ]
  },
  {
   "cell_type": "code",
   "execution_count": 19,
   "metadata": {},
   "outputs": [
    {
     "data": {
      "text/html": [
       "<div>\n",
       "<style scoped>\n",
       "    .dataframe tbody tr th:only-of-type {\n",
       "        vertical-align: middle;\n",
       "    }\n",
       "\n",
       "    .dataframe tbody tr th {\n",
       "        vertical-align: top;\n",
       "    }\n",
       "\n",
       "    .dataframe thead th {\n",
       "        text-align: right;\n",
       "    }\n",
       "</style>\n",
       "<table border=\"1\" class=\"dataframe\">\n",
       "  <thead>\n",
       "    <tr style=\"text-align: right;\">\n",
       "      <th></th>\n",
       "      <th>Postal Code</th>\n",
       "      <th>Borough</th>\n",
       "      <th>Neighbourhood</th>\n",
       "      <th>Latitude</th>\n",
       "      <th>Longitude</th>\n",
       "    </tr>\n",
       "  </thead>\n",
       "  <tbody>\n",
       "    <tr>\n",
       "      <th>2</th>\n",
       "      <td>M5A</td>\n",
       "      <td>Downtown Toronto</td>\n",
       "      <td>Regent Park, Harbourfront</td>\n",
       "      <td>43.654260</td>\n",
       "      <td>-79.360636</td>\n",
       "    </tr>\n",
       "    <tr>\n",
       "      <th>4</th>\n",
       "      <td>M7A</td>\n",
       "      <td>Downtown Toronto</td>\n",
       "      <td>Queen's Park, Ontario Provincial Government</td>\n",
       "      <td>43.662301</td>\n",
       "      <td>-79.389494</td>\n",
       "    </tr>\n",
       "    <tr>\n",
       "      <th>9</th>\n",
       "      <td>M5B</td>\n",
       "      <td>Downtown Toronto</td>\n",
       "      <td>Garden District, Ryerson</td>\n",
       "      <td>43.657162</td>\n",
       "      <td>-79.378937</td>\n",
       "    </tr>\n",
       "    <tr>\n",
       "      <th>15</th>\n",
       "      <td>M5C</td>\n",
       "      <td>Downtown Toronto</td>\n",
       "      <td>St. James Town</td>\n",
       "      <td>43.651494</td>\n",
       "      <td>-79.375418</td>\n",
       "    </tr>\n",
       "    <tr>\n",
       "      <th>19</th>\n",
       "      <td>M4E</td>\n",
       "      <td>East Toronto</td>\n",
       "      <td>The Beaches</td>\n",
       "      <td>43.676357</td>\n",
       "      <td>-79.293031</td>\n",
       "    </tr>\n",
       "    <tr>\n",
       "      <th>20</th>\n",
       "      <td>M5E</td>\n",
       "      <td>Downtown Toronto</td>\n",
       "      <td>Berczy Park</td>\n",
       "      <td>43.644771</td>\n",
       "      <td>-79.373306</td>\n",
       "    </tr>\n",
       "    <tr>\n",
       "      <th>24</th>\n",
       "      <td>M5G</td>\n",
       "      <td>Downtown Toronto</td>\n",
       "      <td>Central Bay Street</td>\n",
       "      <td>43.657952</td>\n",
       "      <td>-79.387383</td>\n",
       "    </tr>\n",
       "    <tr>\n",
       "      <th>25</th>\n",
       "      <td>M6G</td>\n",
       "      <td>Downtown Toronto</td>\n",
       "      <td>Christie</td>\n",
       "      <td>43.669542</td>\n",
       "      <td>-79.422564</td>\n",
       "    </tr>\n",
       "    <tr>\n",
       "      <th>30</th>\n",
       "      <td>M5H</td>\n",
       "      <td>Downtown Toronto</td>\n",
       "      <td>Richmond, Adelaide, King</td>\n",
       "      <td>43.650571</td>\n",
       "      <td>-79.384568</td>\n",
       "    </tr>\n",
       "    <tr>\n",
       "      <th>31</th>\n",
       "      <td>M6H</td>\n",
       "      <td>West Toronto</td>\n",
       "      <td>Dufferin, Dovercourt Village</td>\n",
       "      <td>43.669005</td>\n",
       "      <td>-79.442259</td>\n",
       "    </tr>\n",
       "    <tr>\n",
       "      <th>36</th>\n",
       "      <td>M5J</td>\n",
       "      <td>Downtown Toronto</td>\n",
       "      <td>Harbourfront East, Union Station, Toronto Islands</td>\n",
       "      <td>43.640816</td>\n",
       "      <td>-79.381752</td>\n",
       "    </tr>\n",
       "    <tr>\n",
       "      <th>37</th>\n",
       "      <td>M6J</td>\n",
       "      <td>West Toronto</td>\n",
       "      <td>Little Portugal, Trinity</td>\n",
       "      <td>43.647927</td>\n",
       "      <td>-79.419750</td>\n",
       "    </tr>\n",
       "    <tr>\n",
       "      <th>41</th>\n",
       "      <td>M4K</td>\n",
       "      <td>East Toronto</td>\n",
       "      <td>The Danforth West, Riverdale</td>\n",
       "      <td>43.679557</td>\n",
       "      <td>-79.352188</td>\n",
       "    </tr>\n",
       "    <tr>\n",
       "      <th>42</th>\n",
       "      <td>M5K</td>\n",
       "      <td>Downtown Toronto</td>\n",
       "      <td>Toronto Dominion Centre, Design Exchange</td>\n",
       "      <td>43.647177</td>\n",
       "      <td>-79.381576</td>\n",
       "    </tr>\n",
       "    <tr>\n",
       "      <th>43</th>\n",
       "      <td>M6K</td>\n",
       "      <td>West Toronto</td>\n",
       "      <td>Brockton, Parkdale Village, Exhibition Place</td>\n",
       "      <td>43.636847</td>\n",
       "      <td>-79.428191</td>\n",
       "    </tr>\n",
       "    <tr>\n",
       "      <th>47</th>\n",
       "      <td>M4L</td>\n",
       "      <td>East Toronto</td>\n",
       "      <td>India Bazaar, The Beaches West</td>\n",
       "      <td>43.668999</td>\n",
       "      <td>-79.315572</td>\n",
       "    </tr>\n",
       "    <tr>\n",
       "      <th>48</th>\n",
       "      <td>M5L</td>\n",
       "      <td>Downtown Toronto</td>\n",
       "      <td>Commerce Court, Victoria Hotel</td>\n",
       "      <td>43.648198</td>\n",
       "      <td>-79.379817</td>\n",
       "    </tr>\n",
       "    <tr>\n",
       "      <th>54</th>\n",
       "      <td>M4M</td>\n",
       "      <td>East Toronto</td>\n",
       "      <td>Studio District</td>\n",
       "      <td>43.659526</td>\n",
       "      <td>-79.340923</td>\n",
       "    </tr>\n",
       "    <tr>\n",
       "      <th>61</th>\n",
       "      <td>M4N</td>\n",
       "      <td>Central Toronto</td>\n",
       "      <td>Lawrence Park</td>\n",
       "      <td>43.728020</td>\n",
       "      <td>-79.388790</td>\n",
       "    </tr>\n",
       "    <tr>\n",
       "      <th>62</th>\n",
       "      <td>M5N</td>\n",
       "      <td>Central Toronto</td>\n",
       "      <td>Roselawn</td>\n",
       "      <td>43.711695</td>\n",
       "      <td>-79.416936</td>\n",
       "    </tr>\n",
       "  </tbody>\n",
       "</table>\n",
       "</div>"
      ],
      "text/plain": [
       "   Postal Code           Borough  \\\n",
       "2          M5A  Downtown Toronto   \n",
       "4          M7A  Downtown Toronto   \n",
       "9          M5B  Downtown Toronto   \n",
       "15         M5C  Downtown Toronto   \n",
       "19         M4E      East Toronto   \n",
       "20         M5E  Downtown Toronto   \n",
       "24         M5G  Downtown Toronto   \n",
       "25         M6G  Downtown Toronto   \n",
       "30         M5H  Downtown Toronto   \n",
       "31         M6H      West Toronto   \n",
       "36         M5J  Downtown Toronto   \n",
       "37         M6J      West Toronto   \n",
       "41         M4K      East Toronto   \n",
       "42         M5K  Downtown Toronto   \n",
       "43         M6K      West Toronto   \n",
       "47         M4L      East Toronto   \n",
       "48         M5L  Downtown Toronto   \n",
       "54         M4M      East Toronto   \n",
       "61         M4N   Central Toronto   \n",
       "62         M5N   Central Toronto   \n",
       "\n",
       "                                        Neighbourhood   Latitude  Longitude  \n",
       "2                           Regent Park, Harbourfront  43.654260 -79.360636  \n",
       "4         Queen's Park, Ontario Provincial Government  43.662301 -79.389494  \n",
       "9                            Garden District, Ryerson  43.657162 -79.378937  \n",
       "15                                     St. James Town  43.651494 -79.375418  \n",
       "19                                        The Beaches  43.676357 -79.293031  \n",
       "20                                        Berczy Park  43.644771 -79.373306  \n",
       "24                                 Central Bay Street  43.657952 -79.387383  \n",
       "25                                           Christie  43.669542 -79.422564  \n",
       "30                           Richmond, Adelaide, King  43.650571 -79.384568  \n",
       "31                       Dufferin, Dovercourt Village  43.669005 -79.442259  \n",
       "36  Harbourfront East, Union Station, Toronto Islands  43.640816 -79.381752  \n",
       "37                           Little Portugal, Trinity  43.647927 -79.419750  \n",
       "41                       The Danforth West, Riverdale  43.679557 -79.352188  \n",
       "42           Toronto Dominion Centre, Design Exchange  43.647177 -79.381576  \n",
       "43       Brockton, Parkdale Village, Exhibition Place  43.636847 -79.428191  \n",
       "47                     India Bazaar, The Beaches West  43.668999 -79.315572  \n",
       "48                     Commerce Court, Victoria Hotel  43.648198 -79.379817  \n",
       "54                                    Studio District  43.659526 -79.340923  \n",
       "61                                      Lawrence Park  43.728020 -79.388790  \n",
       "62                                           Roselawn  43.711695 -79.416936  "
      ]
     },
     "execution_count": 19,
     "metadata": {},
     "output_type": "execute_result"
    }
   ],
   "source": [
    "c_tor = c_df[c_df.Borough.str.contains('Toronto')]\n",
    "c_tor.head(20)"
   ]
  },
  {
   "cell_type": "code",
   "execution_count": 20,
   "metadata": {},
   "outputs": [
    {
     "name": "stdout",
     "output_type": "stream",
     "text": [
      "The following dataframe has 4 boroughs and 39 neighbourhoods\n"
     ]
    }
   ],
   "source": [
    "print('The following dataframe has {} boroughs and {} neighbourhoods'.format(len(c_tor['Borough'].unique()),c_tor.shape[0]))"
   ]
  },
  {
   "cell_type": "markdown",
   "metadata": {},
   "source": [
    "Findind Toronto in the world:"
   ]
  },
  {
   "cell_type": "code",
   "execution_count": 21,
   "metadata": {},
   "outputs": [
    {
     "name": "stdout",
     "output_type": "stream",
     "text": [
      "The geograpical coordinate of Toronto are 43.6534817, -79.3839347.\n"
     ]
    }
   ],
   "source": [
    "address = 'Toronto, ON'\n",
    "\n",
    "geolocator = Nominatim(user_agent=\"toronto_explorer\")\n",
    "location = geolocator.geocode(address)\n",
    "latitude = location.latitude\n",
    "longitude = location.longitude\n",
    "print('The geograpical coordinate of Toronto are {}, {}.'.format(latitude, longitude))"
   ]
  },
  {
   "cell_type": "code",
   "execution_count": 22,
   "metadata": {},
   "outputs": [],
   "source": [
    "latlon_array = c_tor[['Latitude','Longitude']].to_numpy()"
   ]
  },
  {
   "cell_type": "code",
   "execution_count": 23,
   "metadata": {},
   "outputs": [
    {
     "data": {
      "text/plain": [
       "array([[ 43.6542599, -79.3606359],\n",
       "       [ 43.6623015, -79.3894938],\n",
       "       [ 43.6571618, -79.3789371],\n",
       "       [ 43.6514939, -79.3754179],\n",
       "       [ 43.6763574, -79.2930312],\n",
       "       [ 43.6447708, -79.3733064],\n",
       "       [ 43.6579524, -79.3873826],\n",
       "       [ 43.669542 , -79.4225637],\n",
       "       [ 43.6505712, -79.3845675],\n",
       "       [ 43.6690051, -79.4422593],\n",
       "       [ 43.6408157, -79.3817523],\n",
       "       [ 43.6479267, -79.4197497],\n",
       "       [ 43.6795571, -79.352188 ],\n",
       "       [ 43.6471768, -79.3815764],\n",
       "       [ 43.6368472, -79.4281914],\n",
       "       [ 43.6689985, -79.3155716],\n",
       "       [ 43.6481985, -79.3798169],\n",
       "       [ 43.6595255, -79.340923 ],\n",
       "       [ 43.7280205, -79.3887901],\n",
       "       [ 43.7116948, -79.4169356],\n",
       "       [ 43.7127511, -79.3901975],\n",
       "       [ 43.6969476, -79.4113072],\n",
       "       [ 43.6616083, -79.4647633],\n",
       "       [ 43.7153834, -79.4056784],\n",
       "       [ 43.6727097, -79.4056784],\n",
       "       [ 43.6489597, -79.456325 ],\n",
       "       [ 43.7043244, -79.3887901],\n",
       "       [ 43.6626956, -79.4000493],\n",
       "       [ 43.6515706, -79.4844499],\n",
       "       [ 43.6895743, -79.3831599],\n",
       "       [ 43.6532057, -79.4000493],\n",
       "       [ 43.6864123, -79.4000493],\n",
       "       [ 43.6289467, -79.3944199],\n",
       "       [ 43.6795626, -79.3775294],\n",
       "       [ 43.6464352, -79.374846 ],\n",
       "       [ 43.667967 , -79.3676753],\n",
       "       [ 43.6484292, -79.3822802],\n",
       "       [ 43.6658599, -79.3831599],\n",
       "       [ 43.6627439, -79.321558 ]])"
      ]
     },
     "execution_count": 23,
     "metadata": {},
     "output_type": "execute_result"
    }
   ],
   "source": [
    "latlon_array"
   ]
  },
  {
   "cell_type": "markdown",
   "metadata": {},
   "source": [
    "Toronto is composed of four big boroughs, with 39 neighbourhoods. Let's show the neighbourhoods in the map. "
   ]
  },
  {
   "cell_type": "code",
   "execution_count": 24,
   "metadata": {},
   "outputs": [
    {
     "data": {
      "text/html": [
       "<div style=\"width:100%;\"><div style=\"position:relative;width:100%;height:0;padding-bottom:60%;\"><span style=\"color:#565656\">Make this Notebook Trusted to load map: File -> Trust Notebook</span><iframe src=\"about:blank\" style=\"position:absolute;width:100%;height:100%;left:0;top:0;border:none !important;\" data-html=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 onload=\"this.contentDocument.open();this.contentDocument.write(atob(this.getAttribute('data-html')));this.contentDocument.close();\" allowfullscreen webkitallowfullscreen mozallowfullscreen></iframe></div></div>"
      ],
      "text/plain": [
       "<folium.folium.Map at 0x1a8754fb0c8>"
      ]
     },
     "execution_count": 24,
     "metadata": {},
     "output_type": "execute_result"
    }
   ],
   "source": [
    "map_toronto = folium.Map(location=[latitude, longitude], zoom_start=12)\n",
    "\n",
    "# add markers to map\n",
    "for lat, lng, borough, neighborhood in zip(c_tor['Latitude'], c_tor['Longitude'], c_tor['Borough'], c_tor['Neighbourhood']):\n",
    "    label = '{}, {}'.format(neighborhood, borough)\n",
    "    label = folium.Popup(label, parse_html=True)\n",
    "    folium.CircleMarker(\n",
    "        [lat, lng],\n",
    "        radius=5,\n",
    "        popup=label,\n",
    "        color='blue',\n",
    "        fill=True,\n",
    "        fill_color='#3186cc',\n",
    "        fill_opacity=0.7,\n",
    "        parse_html=False).add_to(map_toronto)  \n",
    "# Showing map   \n",
    "map_toronto"
   ]
  },
  {
   "cell_type": "markdown",
   "metadata": {},
   "source": [
    "It is hard to visualize the boroughs in this map. So we are going to gather the neighbourhoods in four clusters, and we are going to use K-means to do this."
   ]
  },
  {
   "cell_type": "code",
   "execution_count": 25,
   "metadata": {},
   "outputs": [
    {
     "name": "stderr",
     "output_type": "stream",
     "text": [
      "C:\\Users\\Andre\\anaconda3\\lib\\site-packages\\sklearn\\utils\\deprecation.py:144: FutureWarning: The sklearn.datasets.samples_generator module is  deprecated in version 0.22 and will be removed in version 0.24. The corresponding classes / functions should instead be imported from sklearn.datasets. Anything that cannot be imported from sklearn.datasets is now part of the private API.\n",
      "  warnings.warn(message, FutureWarning)\n"
     ]
    }
   ],
   "source": [
    "from sklearn.cluster import KMeans \n",
    "from sklearn.datasets.samples_generator import make_blobs\n",
    "\n",
    "k_means = KMeans(init=\"k-means++\", n_clusters=4, n_init=12)"
   ]
  },
  {
   "cell_type": "markdown",
   "metadata": {},
   "source": [
    "Fitting and getting the labels in the model:"
   ]
  },
  {
   "cell_type": "code",
   "execution_count": 26,
   "metadata": {},
   "outputs": [
    {
     "data": {
      "text/plain": [
       "KMeans(algorithm='auto', copy_x=True, init='k-means++', max_iter=300,\n",
       "       n_clusters=4, n_init=12, n_jobs=None, precompute_distances='auto',\n",
       "       random_state=None, tol=0.0001, verbose=0)"
      ]
     },
     "execution_count": 26,
     "metadata": {},
     "output_type": "execute_result"
    }
   ],
   "source": [
    "k_means.fit(latlon_array)"
   ]
  },
  {
   "cell_type": "code",
   "execution_count": 27,
   "metadata": {},
   "outputs": [
    {
     "data": {
      "text/plain": [
       "array([1, 1, 1, 1, 3, 1, 1, 0, 1, 0, 1, 0, 3, 1, 0, 3, 1, 3, 2, 2, 2, 2,\n",
       "       0, 2, 1, 0, 2, 1, 0, 2, 1, 2, 1, 1, 1, 1, 1, 1, 3])"
      ]
     },
     "execution_count": 27,
     "metadata": {},
     "output_type": "execute_result"
    }
   ],
   "source": [
    "k_means_labels = k_means.labels_\n",
    "k_means_labels"
   ]
  },
  {
   "cell_type": "code",
   "execution_count": 28,
   "metadata": {},
   "outputs": [
    {
     "data": {
      "text/plain": [
       "(39,)"
      ]
     },
     "execution_count": 28,
     "metadata": {},
     "output_type": "execute_result"
    }
   ],
   "source": [
    "k_means_labels.shape"
   ]
  },
  {
   "cell_type": "markdown",
   "metadata": {},
   "source": [
    "Determining the centers of the clusters"
   ]
  },
  {
   "cell_type": "code",
   "execution_count": 29,
   "metadata": {},
   "outputs": [
    {
     "data": {
      "text/plain": [
       "array([[ 43.65506566, -79.44547176],\n",
       "       [ 43.6547639 , -79.38308287],\n",
       "       [ 43.70563855, -79.39811351],\n",
       "       [ 43.66943648, -79.32465436]])"
      ]
     },
     "execution_count": 29,
     "metadata": {},
     "output_type": "execute_result"
    }
   ],
   "source": [
    "k_means_cluster_centers = k_means.cluster_centers_\n",
    "k_means_cluster_centers"
   ]
  },
  {
   "cell_type": "code",
   "execution_count": 30,
   "metadata": {},
   "outputs": [],
   "source": [
    "import matplotlib.cm as cm\n",
    "import matplotlib.colors as colors"
   ]
  },
  {
   "cell_type": "code",
   "execution_count": 31,
   "metadata": {},
   "outputs": [
    {
     "data": {
      "text/html": [
       "<div style=\"width:100%;\"><div style=\"position:relative;width:100%;height:0;padding-bottom:60%;\"><span style=\"color:#565656\">Make this Notebook Trusted to load map: File -> Trust Notebook</span><iframe src=\"about:blank\" style=\"position:absolute;width:100%;height:100%;left:0;top:0;border:none !important;\" data-html=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 onload=\"this.contentDocument.open();this.contentDocument.write(atob(this.getAttribute('data-html')));this.contentDocument.close();\" allowfullscreen webkitallowfullscreen mozallowfullscreen></iframe></div></div>"
      ],
      "text/plain": [
       "<folium.folium.Map at 0x1a878919748>"
      ]
     },
     "execution_count": 31,
     "metadata": {},
     "output_type": "execute_result"
    }
   ],
   "source": [
    "venues_map = folium.Map(location=[latitude, longitude], zoom_start=12) # generate map centred around Toronto\n",
    "# defining the colors\n",
    "x = np.arange(4)\n",
    "colors_array = cm.rainbow(np.linspace(0, 1, len(x)))\n",
    "rainbow = [colors.rgb2hex(i) for i in colors_array]\n",
    "tool_tip = {0:'West Toronto',1:'Downtown Toronto', 2: 'Central Toronto', 3: 'East Toronto'}\n",
    "\n",
    "# add a orange circle marker to represent the clusters centers\n",
    "\n",
    "for cen_1, cen_2 in k_means_cluster_centers:\n",
    "    folium.CircleMarker([cen_1, cen_2],\n",
    "                        radius=6,color='orange',\n",
    "                        popup='Current Location',\n",
    "                        fill = True,\n",
    "                        fill_color = 'orange',\n",
    "                        fill_opacity = 1).add_to(venues_map)\n",
    "\n",
    "# add the regions at the map\n",
    "for post, lat, lng, label, neighbourhood in zip(c_tor['Postal Code'],\n",
    "                                                      latlon_array[:,0],\n",
    "                                                      latlon_array[:,1],\n",
    "                                                      k_means_labels,\n",
    "                                                      c_tor['Neighbourhood']):\n",
    "    folium.CircleMarker([lat, lng],\n",
    "                        radius=5,\n",
    "                        tooltip = post + ', ' + tool_tip[label] + ' - ' + neighbourhood,\n",
    "                        color= rainbow[label],\n",
    "                        popup=label,\n",
    "                        fill = True,\n",
    "                        fill_color=rainbow[label],\n",
    "                        fill_opacity=.5).add_to(venues_map)\n",
    "\n",
    "# display map\n",
    "venues_map"
   ]
  },
  {
   "cell_type": "markdown",
   "metadata": {},
   "source": [
    "Let's compare the bouroughs in the table and the clusters:"
   ]
  },
  {
   "cell_type": "code",
   "execution_count": 32,
   "metadata": {},
   "outputs": [],
   "source": [
    "compare = c_tor.groupby(['Borough'])['Postal Code'].count()\n",
    "compare = compare.sort_values(ascending = False)"
   ]
  },
  {
   "cell_type": "code",
   "execution_count": 33,
   "metadata": {},
   "outputs": [],
   "source": [
    "ar_k = np.array(np.unique(k_means_labels, return_counts=True)).T"
   ]
  },
  {
   "cell_type": "code",
   "execution_count": 34,
   "metadata": {},
   "outputs": [
    {
     "name": "stdout",
     "output_type": "stream",
     "text": [
      "Borough\n",
      "Downtown Toronto    19\n",
      "Central Toronto      9\n",
      "West Toronto         6\n",
      "East Toronto         5\n",
      "Name: Postal Code, dtype: int64\n",
      "[19  8  7  5]\n"
     ]
    }
   ],
   "source": [
    "print(compare)\n",
    "print(-np.sort(-ar_k[:,1]))"
   ]
  },
  {
   "cell_type": "markdown",
   "metadata": {},
   "source": [
    "As we can see, the model could cluster with a high precision. Let's calculate the precision:\n",
    "\n",
    "$$ \\frac{Tp}{Tp + Fp} $$"
   ]
  },
  {
   "cell_type": "code",
   "execution_count": 35,
   "metadata": {},
   "outputs": [
    {
     "name": "stdout",
     "output_type": "stream",
     "text": [
      "0.9743589743589743\n"
     ]
    }
   ],
   "source": [
    "precision = (19+8+6+5)/(19+8+6+5+1)\n",
    "print(precision)"
   ]
  },
  {
   "cell_type": "markdown",
   "metadata": {},
   "source": [
    "It means that the model has a precision of 97,4%"
   ]
  },
  {
   "cell_type": "code",
   "execution_count": null,
   "metadata": {},
   "outputs": [],
   "source": []
  }
 ],
 "metadata": {
  "kernelspec": {
   "display_name": "Python 3",
   "language": "python",
   "name": "python3"
  },
  "language_info": {
   "codemirror_mode": {
    "name": "ipython",
    "version": 3
   },
   "file_extension": ".py",
   "mimetype": "text/x-python",
   "name": "python",
   "nbconvert_exporter": "python",
   "pygments_lexer": "ipython3",
   "version": "3.7.6"
  }
 },
 "nbformat": 4,
 "nbformat_minor": 4
}
